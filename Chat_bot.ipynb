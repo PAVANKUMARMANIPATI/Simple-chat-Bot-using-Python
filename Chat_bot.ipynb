{
  "nbformat": 4,
  "nbformat_minor": 0,
  "metadata": {
    "colab": {
      "provenance": []
    },
    "kernelspec": {
      "name": "python3",
      "display_name": "Python 3"
    },
    "language_info": {
      "name": "python"
    }
  },
  "cells": [
    {
      "cell_type": "code",
      "source": [],
      "metadata": {
        "id": "Q6gIfMrcaHQ4"
      },
      "execution_count": null,
      "outputs": []
    },
    {
      "cell_type": "code",
      "source": [],
      "metadata": {
        "id": "ZtycqCf8cCOI"
      },
      "execution_count": null,
      "outputs": []
    },
    {
      "cell_type": "code",
      "source": [
        "import random\n",
        "import datetime\n",
        "\n",
        "dict = {\":)\": \"happy\", \":'(\": \"sad\", \"<3\": \"romantic\", \":/\": \"unsure\", \":*\": \"kiss\", \"o.O\": \"confused\", \">:O\": \"upset\", \"(y)\": \"Like\"}\n",
        "mood_che = [\"happy\", \"sad\", \"romantic\", \"unsure\", \"kiss\", \"confused\", \"upset\", \"Like\"]\n",
        "mood_list = list(dict.values())\n",
        "\n",
        "GREETING_KEYWORDS = (\"hello\", \"hi\", \"greetings\", \"sup\", \"what's up\", \"hey\", \"namaste\")\n",
        "GREETING_RESPONSES = [\"Yo!\", \"hey\", \"hi\", \"hello\"]\n",
        "qask = [\"what about You\", \"how are you\"]\n",
        "\n",
        "moodq = [\"happy\", \"nice\", \"good\", \"awesome\", \"fine\"]\n",
        "moodr = [\"Oh! that's very good\", \"I am also like you\", \"good thing\"]\n",
        "moods = [\"sad\", \"bad\", \"very sad\", \"not good\"]\n",
        "\n",
        "ownerq = [\"who made you\", \"who is your owner\", \"who is your head\", \"to whom you belong\"]\n",
        "ownera = [\"Pavan Kumar Manipati\", \"Mr. Pavan Kumar Manipati is your friend\", \"Pavan Tech\", \"He is like you only\", \"A person like you\"]\n",
        "\n",
        "laughq = [\"laugh\", \"joke\"]\n",
        "nameq = [\"call me\", \"my name is\"]\n",
        "dateq = [\"date\", \"time\"]\n",
        "\n",
        "def sad(sd):\n",
        "    for i in range(0, 3):\n",
        "        if sd == mood_che[i]:\n",
        "            print(\"Why? How can I help?\")\n",
        "        elif sd == moodq[i]:\n",
        "            print(\"Nice! How can I help?\")\n",
        "\n",
        "def check_for_greeting(sentence):\n",
        "    for key in dict:\n",
        "        if sentence in dict.keys():\n",
        "            val2 = dict[sentence]\n",
        "            print(f\"You are in {val2} mood\")\n",
        "            sad(val2)\n",
        "            break\n",
        "\n",
        "    for keyword in GREETING_KEYWORDS:\n",
        "        if keyword in sentence:\n",
        "            print(random.choice(GREETING_RESPONSES))\n",
        "            print(\"How are you?\")\n",
        "            break\n",
        "\n",
        "    for mood in moodq:\n",
        "        if mood in sentence:\n",
        "            print(random.choice(moodr))\n",
        "            print(\"It would be great to talk with you. Now, what do you want me to do?\")\n",
        "            break\n",
        "\n",
        "    for mood in moods:\n",
        "        if sentence == mood:\n",
        "            print(\"Why? How can I help?\")\n",
        "            break\n",
        "\n",
        "    if sentence == \"sing a song\":\n",
        "        print(\"Which type of song do you want?\")\n",
        "        j = input()\n",
        "        if \"hindi\" in j:\n",
        "            print(\"You should go for Saavn.com or Gaana.com\")\n",
        "        elif \"punjabi\" in j:\n",
        "            print(\"You should go for djpunjab.com or pagaljatt.com\")\n",
        "        elif \"english\" in j:\n",
        "            print(\"You should go for Google only. I am an Indian.\")\n",
        "        else:\n",
        "            print(\"Search it on Google. I know about only English, Hindi, and Punjabi.\")\n",
        "\n",
        "    for owner in ownerq:\n",
        "        if sentence == owner:\n",
        "            print(random.choice(ownera))\n",
        "            print(\"His name is: Manipati pavan Kumar\")\n",
        "            print(\"My lord's email is: pavan@gmail.com\")\n",
        "            print(\"His contact number is:99667755431 \")\n",
        "            break\n",
        "\n",
        "    for laugh in laughq:\n",
        "        if laugh in sentence:\n",
        "            print(\"Here's a joke for you: Why don't scientists trust atoms? Because they make up everything!\")\n",
        "\n",
        "    for date in dateq:\n",
        "        if date in sentence:\n",
        "            now = datetime.datetime.now()\n",
        "            print(\"Current date and time: \")\n",
        "            print(now.strftime(\"%Y-%m-%d %H:%M:%S\"))\n",
        "            break\n",
        "\n",
        "while True:\n",
        "    i = input()\n",
        "    check_for_greeting(i)\n"
      ],
      "metadata": {
        "colab": {
          "base_uri": "https://localhost:8080/"
        },
        "id": "AjVV4igJZ7ww",
        "outputId": "a6ae4798-6680-4779-a760-464bf4e016db"
      },
      "execution_count": null,
      "outputs": [
        {
          "output_type": "stream",
          "name": "stdout",
          "text": [
            "hello\n",
            "hello\n",
            "How are you?\n",
            "hi\n",
            "hello\n",
            "How are you?\n",
            "joke\n",
            "Here's a joke for you: Why don't scientists trust atoms? Because they make up everything!\n",
            "who made you\n",
            "Pavan Kumar Manipati\n",
            "His name is: Manipati pavan Kumar\n",
            "My lord's email is: pavan@gmail.com\n",
            "His contact number is:99667755431 \n",
            "laugh\n",
            "Here's a joke for you: Why don't scientists trust atoms? Because they make up everything!\n",
            "sad\n",
            "Why? How can I help?\n",
            "very sad\n",
            "Why? How can I help?\n",
            "to whom you belong\n",
            "Mr. Pavan Kumar Manipati is your friend\n",
            "His name is: Manipati pavan Kumar\n",
            "My lord's email is: pavan@gmail.com\n",
            "His contact number is:99667755431 \n",
            "who is your head\n",
            "He is like you only\n",
            "His name is: Manipati pavan Kumar\n",
            "My lord's email is: pavan@gmail.com\n",
            "His contact number is:99667755431 \n",
            "sing a song\n",
            "Which type of song do you want?\n",
            "hindi\n",
            "You should go for Saavn.com or Gaana.com\n",
            "ok\n",
            "happy\n",
            "I am also like you\n",
            "It would be great to talk with you. Now, what do you want me to do?\n"
          ]
        }
      ]
    },
    {
      "cell_type": "code",
      "source": [],
      "metadata": {
        "id": "KJHdjl-FcPQI"
      },
      "execution_count": null,
      "outputs": []
    }
  ]
}